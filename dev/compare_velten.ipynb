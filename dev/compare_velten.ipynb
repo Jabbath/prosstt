{
 "cells": [
  {
   "cell_type": "code",
   "execution_count": 1,
   "metadata": {},
   "outputs": [],
   "source": [
    "import pandas as pd\n",
    "import numpy as np\n",
    "from numpy import random\n",
    "\n",
    "import matplotlib.pyplot as plt"
   ]
  },
  {
   "cell_type": "code",
   "execution_count": 2,
   "metadata": {},
   "outputs": [],
   "source": [
    "%load_ext autoreload\n",
    "%autoreload 2\n",
    "\n",
    "import tree\n",
    "import simulation as sim\n",
    "import sim_utils as sut\n",
    "import count_model as cmod\n",
    "import tree_utils as tu"
   ]
  },
  {
   "cell_type": "code",
   "execution_count": 3,
   "metadata": {},
   "outputs": [],
   "source": [
    "from comparison_functions import *"
   ]
  },
  {
   "cell_type": "code",
   "execution_count": 4,
   "metadata": {},
   "outputs": [],
   "source": [
    "rseed = 42\n",
    "np.random.seed(rseed)"
   ]
  },
  {
   "cell_type": "code",
   "execution_count": 5,
   "metadata": {},
   "outputs": [],
   "source": [
    "real_name = \"velten\"\n",
    "real_cells = pd.read_csv(\"/home/npapado/Documents/data/steinmetz/all_cells.txt\",\n",
    "                         sep=\" \", header=0, index_col=0)\n",
    "real_genes = pd.read_csv(\"/home/npapado/Documents/data/steinmetz/all_genes.txt\",\n",
    "                         sep=\" \", header=0, index_col=0)\n",
    "\n",
    "real_stats = [real_cells, real_genes]"
   ]
  },
  {
   "cell_type": "code",
   "execution_count": null,
   "metadata": {},
   "outputs": [
    {
     "name": "stderr",
     "output_type": "stream",
     "text": [
      "/home/npapado/Documents/repos/prosstt/dev/simulation.py:154: UserWarning: No argument 'a' specified in kwargs: using gamma and a=0.04\n",
      "  \"No argument 'a' specified in kwargs: using gamma and a=0.04\", UserWarning)\n",
      "/home/npapado/miniconda3/envs/py36/lib/python3.6/site-packages/scipy/stats/stats.py:3010: RuntimeWarning: invalid value encountered in double_scalars\n",
      "  r = r_num / r_den\n"
     ]
    }
   ],
   "source": [
    "top = [[0,1], [0,2], [0,3], [0,4], [0,5]]\n",
    "\n",
    "branches = np.unique(np.array(top).flatten())\n",
    "time = {b: 50 for b in branches}\n",
    "G = real_genes.shape[1]\n",
    "t = tree.Tree(topology=top, G=G, time=time, num_branches=len(branches), branch_points=1, modules=30)\n",
    "\n",
    "uMs, Ws, Hs = sim.simulate_lineage(t, intra_branch_tol=-1, inter_branch_tol=0)"
   ]
  },
  {
   "cell_type": "markdown",
   "metadata": {},
   "source": [
    "learn summary statistics and set simulation parameters accordingly"
   ]
  },
  {
   "cell_type": "code",
   "execution_count": null,
   "metadata": {},
   "outputs": [],
   "source": [
    "scale_params, alpha_mean, beta_mean, proposed_means = sut.learn_data_summary(real_cells, real_genes, uMs)\n",
    "t.add_genes(uMs, proposed_means)\n",
    "scale_mean, scale_var = scale_params"
   ]
  },
  {
   "cell_type": "code",
   "execution_count": null,
   "metadata": {},
   "outputs": [],
   "source": [
    "# use default variance for hyperparameter sampling\n",
    "alpha_var = np.log(1.5)\n",
    "beta_var = np.log(1.5)\n",
    "\n",
    "alpha = np.exp(random.normal(loc=alpha_mean, scale=alpha_var, size=t.G))\n",
    "beta = np.exp(random.normal(loc=beta_mean, scale=beta_var, size=t.G)) + 1\n",
    "X, labs, brns, scalings = sim.sample_density(t, 1035, alpha=alpha, beta=beta,\n",
    "                                             scale=True, scale_mean=scale_mean, scale_v=scale_var)\n",
    "\n",
    "sim_means = np.mean(X, axis=0)\n",
    "sim_vars = np.var(X, axis=0)\n",
    "sim_zeros_gene = np.sum(X==0, axis=0)\n",
    "sim_zeros_cell = np.sum(X==0, axis=1)\n",
    "sim_totals = np.sum(X, axis=1)\n",
    "\n",
    "sim_means[sim_means<=0] = 1e-6\n",
    "sim_vars[sim_vars<=0] = 1e-6\n",
    "\n",
    "simulated = [sim_means, sim_vars, sim_zeros_gene, sim_zeros_cell, sim_totals]"
   ]
  },
  {
   "cell_type": "code",
   "execution_count": null,
   "metadata": {},
   "outputs": [],
   "source": [
    "plot(real_name, real_stats, simulated, alpha=0.01)"
   ]
  },
  {
   "cell_type": "code",
   "execution_count": null,
   "metadata": {},
   "outputs": [],
   "source": []
  }
 ],
 "metadata": {
  "kernelspec": {
   "display_name": "Python 3",
   "language": "python",
   "name": "python3"
  },
  "language_info": {
   "codemirror_mode": {
    "name": "ipython",
    "version": 3
   },
   "file_extension": ".py",
   "mimetype": "text/x-python",
   "name": "python",
   "nbconvert_exporter": "python",
   "pygments_lexer": "ipython3",
   "version": "3.6.3"
  }
 },
 "nbformat": 4,
 "nbformat_minor": 2
}
