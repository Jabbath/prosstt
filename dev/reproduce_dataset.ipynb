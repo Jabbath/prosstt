{
 "cells": [
  {
   "cell_type": "code",
   "execution_count": 1,
   "metadata": {},
   "outputs": [],
   "source": [
    "import numpy as np\n",
    "from numpy import random\n",
    "import scipy as sp\n",
    "import pandas as pd\n",
    "\n",
    "# import scanpy for dimensionality reduction and plotting\n",
    "import anndata as ad\n",
    "from scanpy.api.tl import tsne\n",
    "from scanpy.api.tl import umap\n",
    "from scanpy.api.tl import diffmap\n",
    "from scanpy.api import pp\n",
    "\n",
    "# set viridis as the default color map\n",
    "import matplotlib as mpl\n",
    "import matplotlib.pyplot as plt\n",
    "import matplotlib.cm as cm\n",
    "mpl.rcParams['image.cmap'] = 'viridis'"
   ]
  },
  {
   "cell_type": "code",
   "execution_count": 2,
   "metadata": {},
   "outputs": [],
   "source": [
    "# simulation\n",
    "import tree\n",
    "import simulation as sim\n",
    "import sim_utils as sut\n",
    "import count_model as cmod"
   ]
  },
  {
   "cell_type": "code",
   "execution_count": 3,
   "metadata": {},
   "outputs": [],
   "source": [
    "rseed = 42\n",
    "np.random.seed(rseed)"
   ]
  },
  {
   "cell_type": "code",
   "execution_count": 4,
   "metadata": {},
   "outputs": [],
   "source": [
    "X = pd.read_csv(\"./learn_dataset/Treutlein2014.txt\", sep=\"\\t\", index_col=0)\n",
    "N, G = X.shape"
   ]
  },
  {
   "cell_type": "code",
   "execution_count": 5,
   "metadata": {},
   "outputs": [],
   "source": [
    "branches = [\"fibro\", \"neuro\", \"myo\"]\n",
    "topology = [[\"fibro\", \"neuro\"], [\"fibro\", \"myo\"]]\n",
    "time = {\"fibro\":34, \"neuro\":46, \"myo\":22}\n",
    "t = tree.Tree(topology=topology, G=G, time=time, num_branches=len(branches), branch_points=1, modules=0)"
   ]
  },
  {
   "cell_type": "code",
   "execution_count": 6,
   "metadata": {},
   "outputs": [],
   "source": [
    "neuro = pd.read_csv(\"./learn_dataset/neuro.csv\", index_col=0)\n",
    "fibro = pd.read_csv(\"./learn_dataset/fibro.csv\", index_col=0)\n",
    "myo = pd.read_csv(\"./learn_dataset/myo.csv\", index_col=0)"
   ]
  },
  {
   "cell_type": "code",
   "execution_count": 7,
   "metadata": {},
   "outputs": [],
   "source": [
    "t.add_genes({\"neuro\": np.array(neuro), \n",
    "             \"fibro\": np.array(fibro),\n",
    "             \"myo\": np.array(myo)})"
   ]
  },
  {
   "cell_type": "code",
   "execution_count": 9,
   "metadata": {},
   "outputs": [],
   "source": [
    "neuro_density = np.array(pd.read_csv(\"./learn_dataset/neuro_density.csv\", index_col=0)).flatten()\n",
    "fibro_density = np.array(pd.read_csv(\"./learn_dataset/fibro_density.csv\", index_col=0)).flatten()\n",
    "myo_density = np.array(pd.read_csv(\"./learn_dataset/myo_density.csv\", index_col=0)).flatten()\n",
    "\n",
    "total_density = np.sum(neuro_density) + np.sum(myo_density) + np.sum(fibro_density)"
   ]
  },
  {
   "cell_type": "code",
   "execution_count": 10,
   "metadata": {},
   "outputs": [],
   "source": [
    "tree_density = {\"neuro\": neuro_density / total_density,\n",
    "               \"fibro\": fibro_density / total_density,\n",
    "               \"myo\": myo_density / total_density}"
   ]
  },
  {
   "cell_type": "code",
   "execution_count": 11,
   "metadata": {},
   "outputs": [],
   "source": [
    "t.set_density(tree_density)"
   ]
  },
  {
   "cell_type": "code",
   "execution_count": 15,
   "metadata": {},
   "outputs": [],
   "source": [
    "X1, labs1, brns1, scalings1 = sim.sample_density(t, N, alpha=np.ones(G)*0.2,\n",
    "                                                 beta=np.ones(G)*2, scale_mean=0, scale_v=0.1)"
   ]
  },
  {
   "cell_type": "code",
   "execution_count": 18,
   "metadata": {},
   "outputs": [
    {
     "data": {
      "text/plain": [
       "<matplotlib.collections.PathCollection at 0x7f0dfa7a2470>"
      ]
     },
     "execution_count": 18,
     "metadata": {},
     "output_type": "execute_result"
    },
    {
     "data": {
      "image/png": "[encoded data removed]",
      "text/plain": [
       "<Figure size 432x288 with 2 Axes>"
      ]
     },
     "metadata": {},
     "output_type": "display_data"
    }
   ],
   "source": [
    "data1 = ad.AnnData(np.log(X1+1))\n",
    "pp.neighbors(data1, use_rep='X')\n",
    "umap(data1)\n",
    "dm1 = data1.obsm[\"X_umap\"]\n",
    "br_names1, indices1 = np.unique(brns1, return_inverse=True)\n",
    "\n",
    "data2 = ad.AnnData(np.log(X+1))\n",
    "pp.neighbors(data2, use_rep='X')\n",
    "umap(data2)\n",
    "dm2 = data2.obsm[\"X_umap\"]\n",
    "\n",
    "fig, ax = plt.subplots(ncols=2)\n",
    "# fig.set_size_inches(w=12, h=12)\n",
    "ax[0].scatter(dm1[:, 0], dm1[:, 1])\n",
    "ax[1].scatter(dm2[:, 0], dm2[:, 1])"
   ]
  },
  {
   "cell_type": "code",
   "execution_count": 35,
   "metadata": {},
   "outputs": [],
   "source": [
    "together = np.concatenate((X, X1))\n",
    "original = [\"original\"] * N\n",
    "simulated = [\"simulated\"] * N\n",
    "origin = np.concatenate((original, simulated))"
   ]
  },
  {
   "cell_type": "code",
   "execution_count": 37,
   "metadata": {},
   "outputs": [
    {
     "name": "stdout",
     "output_type": "stream",
     "text": [
      "WARNING: You're trying to run this on 290 dimensions of `.X`, if you really want this, set `use_rep='X'`.\n",
      "         Falling back to preprocessing with `sc.pp.pca` and default params.\n"
     ]
    },
    {
     "data": {
      "text/plain": [
       "<matplotlib.collections.PathCollection at 0x7f10ab7e7898>"
      ]
     },
     "execution_count": 37,
     "metadata": {},
     "output_type": "execute_result"
    },
    {
     "data": {
      "image/png": "[encoded data removed]",
      "text/plain": [
       "<Figure size 432x288 with 1 Axes>"
      ]
     },
     "metadata": {},
     "output_type": "display_data"
    }
   ],
   "source": [
    "data = ad.AnnData(np.log(together+1))\n",
    "pp.neighbors(data, use_rep='X')\n",
    "tsne(data)\n",
    "dm = data.obsm[\"X_tsne\"]\n",
    "\n",
    "fig, ax = plt.subplots()\n",
    "# fig.set_size_inches(w=12, h=12)\n",
    "ax.scatter(dm[origin==\"original\", 0], dm[origin==\"original\", 1], label=\"original\")\n",
    "ax.scatter(dm[origin==\"simulated\", 0], dm[origin==\"simulated\", 1], label=\"simulated\")"
   ]
  }
 ],
 "metadata": {
  "kernelspec": {
   "display_name": "Python 3",
   "language": "python",
   "name": "python3"
  },
  "language_info": {
   "codemirror_mode": {
    "name": "ipython",
    "version": 3
   },
   "file_extension": ".py",
   "mimetype": "text/x-python",
   "name": "python",
   "nbconvert_exporter": "python",
   "pygments_lexer": "ipython3",
   "version": "3.6.3"
  }
 },
 "nbformat": 4,
 "nbformat_minor": 2
}
